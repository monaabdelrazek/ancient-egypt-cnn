{
 "cells": [{
   "cell_type": "markdown",
   "metadata": {},
   "source": [
    "### ▶️ Run the Cell Below\n",
    "\n",
    "Please upload an image and run the cell below to test the deployed CNN model using the live Hugging Face API.  \n",
    "Make sure you're using a `.jpg`, `.jpeg`, `.png`, `.bmp` or `.webp` image."
   ]
  },
  {
   "cell_type": "code",
   "execution_count": null,
   "metadata": {},
   "outputs": [],
   "source": [
    "# 👋 Upload an image file\n",
    "from google.colab import files\n",
    "uploaded = files.upload()\n",
    "\n",
    "file_name = list(uploaded.keys())[0]\n",
    "\n",
    "# 📤 Send to API\n",
    "import requests\n",
    "\n",
    "url = \"https://monaabdelrazek-AncientAura2.hf.space/predict\"\n",
    "files = {\"image\": open(file_name, \"rb\")}\n",
    "response = requests.post(url, files=files)\n",
    "\n",
    "# 📊 Display result\n",
    "print(\"Status code:\", response.status_code)\n",
    "print(\"Result:\", response.json())"
   ]
  }
 ],
 "metadata": {
  "kernelspec": {
   "display_name": "Python 3",
   "language": "python",
   "name": "python3"
  },
  "language_info": {
   "name": "python",
   "version": ""
  }
 },
 "nbformat": 4,
 "nbformat_minor": 4
}
